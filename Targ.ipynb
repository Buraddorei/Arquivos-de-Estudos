{
  "nbformat": 4,
  "nbformat_minor": 0,
  "metadata": {
    "colab": {
      "provenance": [],
      "authorship_tag": "ABX9TyOhZsZmf988VkVrXMNb7IKa",
      "include_colab_link": true
    },
    "kernelspec": {
      "name": "python3",
      "display_name": "Python 3"
    },
    "language_info": {
      "name": "python"
    }
  },
  "cells": [
    {
      "cell_type": "markdown",
      "metadata": {
        "id": "view-in-github",
        "colab_type": "text"
      },
      "source": [
        "<a href=\"https://colab.research.google.com/github/rrben/Arquivos-de-Estudos/blob/master/Targ.ipynb\" target=\"_parent\"><img src=\"https://colab.research.google.com/assets/colab-badge.svg\" alt=\"Open In Colab\"/></a>"
      ]
    },
    {
      "cell_type": "code",
      "execution_count": null,
      "metadata": {
        "id": "dpedYd0bv1Mp"
      },
      "outputs": [],
      "source": [
        "import pandas as pd"
      ]
    },
    {
      "cell_type": "code",
      "source": [
        "dados1 = pd.read_json(\"/content/dados.json\")"
      ],
      "metadata": {
        "id": "AxGmc4xMwD4F"
      },
      "execution_count": null,
      "outputs": []
    },
    {
      "cell_type": "code",
      "source": [
        "dados1"
      ],
      "metadata": {
        "colab": {
          "base_uri": "https://localhost:8080/",
          "height": 655
        },
        "id": "GurYBGjTwZEj",
        "outputId": "08ec5f7d-f9b7-4784-961d-93a2eedf800a"
      },
      "execution_count": null,
      "outputs": [
        {
          "output_type": "execute_result",
          "data": {
            "text/plain": [
              "    dia       valor\n",
              "0     1  22174.1664\n",
              "1     2  24537.6698\n",
              "2     3  26139.6134\n",
              "3     4      0.0000\n",
              "4     5      0.0000\n",
              "5     6  26742.6612\n",
              "6     7      0.0000\n",
              "7     8  42889.2258\n",
              "8     9  46251.1740\n",
              "9    10  11191.4722\n",
              "10   11      0.0000\n",
              "11   12      0.0000\n",
              "12   13   3847.4823\n",
              "13   14    373.7838\n",
              "14   15   2659.7563\n",
              "15   16  48924.2448\n",
              "16   17  18419.2614\n",
              "17   18      0.0000\n",
              "18   19      0.0000\n",
              "19   20  35240.1826\n",
              "20   21  43829.1667\n",
              "21   22  18235.6852\n",
              "22   23   4355.0662\n",
              "23   24  13327.1025\n",
              "24   25      0.0000\n",
              "25   26      0.0000\n",
              "26   27  25681.8318\n",
              "27   28   1718.1221\n",
              "28   29  13220.4950\n",
              "29   30   8414.6100"
            ],
            "text/html": [
              "\n",
              "  <div id=\"df-0ea82ee8-3f50-4662-957a-62a4d6d32ab0\">\n",
              "    <div class=\"colab-df-container\">\n",
              "      <div>\n",
              "<style scoped>\n",
              "    .dataframe tbody tr th:only-of-type {\n",
              "        vertical-align: middle;\n",
              "    }\n",
              "\n",
              "    .dataframe tbody tr th {\n",
              "        vertical-align: top;\n",
              "    }\n",
              "\n",
              "    .dataframe thead th {\n",
              "        text-align: right;\n",
              "    }\n",
              "</style>\n",
              "<table border=\"1\" class=\"dataframe\">\n",
              "  <thead>\n",
              "    <tr style=\"text-align: right;\">\n",
              "      <th></th>\n",
              "      <th>dia</th>\n",
              "      <th>valor</th>\n",
              "    </tr>\n",
              "  </thead>\n",
              "  <tbody>\n",
              "    <tr>\n",
              "      <th>0</th>\n",
              "      <td>1</td>\n",
              "      <td>22174.1664</td>\n",
              "    </tr>\n",
              "    <tr>\n",
              "      <th>1</th>\n",
              "      <td>2</td>\n",
              "      <td>24537.6698</td>\n",
              "    </tr>\n",
              "    <tr>\n",
              "      <th>2</th>\n",
              "      <td>3</td>\n",
              "      <td>26139.6134</td>\n",
              "    </tr>\n",
              "    <tr>\n",
              "      <th>3</th>\n",
              "      <td>4</td>\n",
              "      <td>0.0000</td>\n",
              "    </tr>\n",
              "    <tr>\n",
              "      <th>4</th>\n",
              "      <td>5</td>\n",
              "      <td>0.0000</td>\n",
              "    </tr>\n",
              "    <tr>\n",
              "      <th>5</th>\n",
              "      <td>6</td>\n",
              "      <td>26742.6612</td>\n",
              "    </tr>\n",
              "    <tr>\n",
              "      <th>6</th>\n",
              "      <td>7</td>\n",
              "      <td>0.0000</td>\n",
              "    </tr>\n",
              "    <tr>\n",
              "      <th>7</th>\n",
              "      <td>8</td>\n",
              "      <td>42889.2258</td>\n",
              "    </tr>\n",
              "    <tr>\n",
              "      <th>8</th>\n",
              "      <td>9</td>\n",
              "      <td>46251.1740</td>\n",
              "    </tr>\n",
              "    <tr>\n",
              "      <th>9</th>\n",
              "      <td>10</td>\n",
              "      <td>11191.4722</td>\n",
              "    </tr>\n",
              "    <tr>\n",
              "      <th>10</th>\n",
              "      <td>11</td>\n",
              "      <td>0.0000</td>\n",
              "    </tr>\n",
              "    <tr>\n",
              "      <th>11</th>\n",
              "      <td>12</td>\n",
              "      <td>0.0000</td>\n",
              "    </tr>\n",
              "    <tr>\n",
              "      <th>12</th>\n",
              "      <td>13</td>\n",
              "      <td>3847.4823</td>\n",
              "    </tr>\n",
              "    <tr>\n",
              "      <th>13</th>\n",
              "      <td>14</td>\n",
              "      <td>373.7838</td>\n",
              "    </tr>\n",
              "    <tr>\n",
              "      <th>14</th>\n",
              "      <td>15</td>\n",
              "      <td>2659.7563</td>\n",
              "    </tr>\n",
              "    <tr>\n",
              "      <th>15</th>\n",
              "      <td>16</td>\n",
              "      <td>48924.2448</td>\n",
              "    </tr>\n",
              "    <tr>\n",
              "      <th>16</th>\n",
              "      <td>17</td>\n",
              "      <td>18419.2614</td>\n",
              "    </tr>\n",
              "    <tr>\n",
              "      <th>17</th>\n",
              "      <td>18</td>\n",
              "      <td>0.0000</td>\n",
              "    </tr>\n",
              "    <tr>\n",
              "      <th>18</th>\n",
              "      <td>19</td>\n",
              "      <td>0.0000</td>\n",
              "    </tr>\n",
              "    <tr>\n",
              "      <th>19</th>\n",
              "      <td>20</td>\n",
              "      <td>35240.1826</td>\n",
              "    </tr>\n",
              "    <tr>\n",
              "      <th>20</th>\n",
              "      <td>21</td>\n",
              "      <td>43829.1667</td>\n",
              "    </tr>\n",
              "    <tr>\n",
              "      <th>21</th>\n",
              "      <td>22</td>\n",
              "      <td>18235.6852</td>\n",
              "    </tr>\n",
              "    <tr>\n",
              "      <th>22</th>\n",
              "      <td>23</td>\n",
              "      <td>4355.0662</td>\n",
              "    </tr>\n",
              "    <tr>\n",
              "      <th>23</th>\n",
              "      <td>24</td>\n",
              "      <td>13327.1025</td>\n",
              "    </tr>\n",
              "    <tr>\n",
              "      <th>24</th>\n",
              "      <td>25</td>\n",
              "      <td>0.0000</td>\n",
              "    </tr>\n",
              "    <tr>\n",
              "      <th>25</th>\n",
              "      <td>26</td>\n",
              "      <td>0.0000</td>\n",
              "    </tr>\n",
              "    <tr>\n",
              "      <th>26</th>\n",
              "      <td>27</td>\n",
              "      <td>25681.8318</td>\n",
              "    </tr>\n",
              "    <tr>\n",
              "      <th>27</th>\n",
              "      <td>28</td>\n",
              "      <td>1718.1221</td>\n",
              "    </tr>\n",
              "    <tr>\n",
              "      <th>28</th>\n",
              "      <td>29</td>\n",
              "      <td>13220.4950</td>\n",
              "    </tr>\n",
              "    <tr>\n",
              "      <th>29</th>\n",
              "      <td>30</td>\n",
              "      <td>8414.6100</td>\n",
              "    </tr>\n",
              "  </tbody>\n",
              "</table>\n",
              "</div>\n",
              "      <button class=\"colab-df-convert\" onclick=\"convertToInteractive('df-0ea82ee8-3f50-4662-957a-62a4d6d32ab0')\"\n",
              "              title=\"Convert this dataframe to an interactive table.\"\n",
              "              style=\"display:none;\">\n",
              "        \n",
              "  <svg xmlns=\"http://www.w3.org/2000/svg\" height=\"24px\"viewBox=\"0 0 24 24\"\n",
              "       width=\"24px\">\n",
              "    <path d=\"M0 0h24v24H0V0z\" fill=\"none\"/>\n",
              "    <path d=\"M18.56 5.44l.94 2.06.94-2.06 2.06-.94-2.06-.94-.94-2.06-.94 2.06-2.06.94zm-11 1L8.5 8.5l.94-2.06 2.06-.94-2.06-.94L8.5 2.5l-.94 2.06-2.06.94zm10 10l.94 2.06.94-2.06 2.06-.94-2.06-.94-.94-2.06-.94 2.06-2.06.94z\"/><path d=\"M17.41 7.96l-1.37-1.37c-.4-.4-.92-.59-1.43-.59-.52 0-1.04.2-1.43.59L10.3 9.45l-7.72 7.72c-.78.78-.78 2.05 0 2.83L4 21.41c.39.39.9.59 1.41.59.51 0 1.02-.2 1.41-.59l7.78-7.78 2.81-2.81c.8-.78.8-2.07 0-2.86zM5.41 20L4 18.59l7.72-7.72 1.47 1.35L5.41 20z\"/>\n",
              "  </svg>\n",
              "      </button>\n",
              "      \n",
              "  <style>\n",
              "    .colab-df-container {\n",
              "      display:flex;\n",
              "      flex-wrap:wrap;\n",
              "      gap: 12px;\n",
              "    }\n",
              "\n",
              "    .colab-df-convert {\n",
              "      background-color: #E8F0FE;\n",
              "      border: none;\n",
              "      border-radius: 50%;\n",
              "      cursor: pointer;\n",
              "      display: none;\n",
              "      fill: #1967D2;\n",
              "      height: 32px;\n",
              "      padding: 0 0 0 0;\n",
              "      width: 32px;\n",
              "    }\n",
              "\n",
              "    .colab-df-convert:hover {\n",
              "      background-color: #E2EBFA;\n",
              "      box-shadow: 0px 1px 2px rgba(60, 64, 67, 0.3), 0px 1px 3px 1px rgba(60, 64, 67, 0.15);\n",
              "      fill: #174EA6;\n",
              "    }\n",
              "\n",
              "    [theme=dark] .colab-df-convert {\n",
              "      background-color: #3B4455;\n",
              "      fill: #D2E3FC;\n",
              "    }\n",
              "\n",
              "    [theme=dark] .colab-df-convert:hover {\n",
              "      background-color: #434B5C;\n",
              "      box-shadow: 0px 1px 3px 1px rgba(0, 0, 0, 0.15);\n",
              "      filter: drop-shadow(0px 1px 2px rgba(0, 0, 0, 0.3));\n",
              "      fill: #FFFFFF;\n",
              "    }\n",
              "  </style>\n",
              "\n",
              "      <script>\n",
              "        const buttonEl =\n",
              "          document.querySelector('#df-0ea82ee8-3f50-4662-957a-62a4d6d32ab0 button.colab-df-convert');\n",
              "        buttonEl.style.display =\n",
              "          google.colab.kernel.accessAllowed ? 'block' : 'none';\n",
              "\n",
              "        async function convertToInteractive(key) {\n",
              "          const element = document.querySelector('#df-0ea82ee8-3f50-4662-957a-62a4d6d32ab0');\n",
              "          const dataTable =\n",
              "            await google.colab.kernel.invokeFunction('convertToInteractive',\n",
              "                                                     [key], {});\n",
              "          if (!dataTable) return;\n",
              "\n",
              "          const docLinkHtml = 'Like what you see? Visit the ' +\n",
              "            '<a target=\"_blank\" href=https://colab.research.google.com/notebooks/data_table.ipynb>data table notebook</a>'\n",
              "            + ' to learn more about interactive tables.';\n",
              "          element.innerHTML = '';\n",
              "          dataTable['output_type'] = 'display_data';\n",
              "          await google.colab.output.renderOutput(dataTable, element);\n",
              "          const docLink = document.createElement('div');\n",
              "          docLink.innerHTML = docLinkHtml;\n",
              "          element.appendChild(docLink);\n",
              "        }\n",
              "      </script>\n",
              "    </div>\n",
              "  </div>\n",
              "  "
            ]
          },
          "metadata": {},
          "execution_count": 8
        }
      ]
    },
    {
      "cell_type": "code",
      "source": [
        "import xml.etree.ElementTree as ET\n"
      ],
      "metadata": {
        "id": "J4BIM4V7-N5L"
      },
      "execution_count": 32,
      "outputs": []
    },
    {
      "cell_type": "code",
      "source": [
        "tree = ET.parse(\"/content/dados (2).xml\")\n",
        "dados2 = tree.getroot()\n",
        "\n",
        "for row in dados2.iter(\"row\"):\n",
        "    dia = row.find(\"dia\").text\n",
        "    valor = row.find(\"valor\").text\n",
        "    print(f\"Dia: {dia}, Valor: {valor}\")"
      ],
      "metadata": {
        "colab": {
          "base_uri": "https://localhost:8080/"
        },
        "id": "BGsKJdL6cQe9",
        "outputId": "6c07171d-6797-4fb2-a749-e10ceb21bad9"
      },
      "execution_count": 134,
      "outputs": [
        {
          "output_type": "stream",
          "name": "stdout",
          "text": [
            "Dia: 1, Valor: 31490.7866\n",
            "Dia: 2, Valor: 37277.9400\n",
            "Dia: 3, Valor: 37708.4303\n",
            "Dia: 4, Valor: 0.0000\n",
            "Dia: 5, Valor: 0.0000\n",
            "Dia: 6, Valor: 17934.2269\n",
            "Dia: 7, Valor: 0.0000\n",
            "Dia: 8, Valor: 6965.1262\n",
            "Dia: 9, Valor: 24390.9374\n",
            "Dia: 10, Valor: 14279.6481\n",
            "Dia: 11, Valor: 0.0000\n",
            "Dia: 12, Valor: 0.0000\n",
            "Dia: 13, Valor: 39807.6622\n",
            "Dia: 14, Valor: 27261.6304\n",
            "Dia: 15, Valor: 39775.6434\n",
            "Dia: 16, Valor: 29797.6232\n",
            "Dia: 17, Valor: 17216.5017\n",
            "Dia: 18, Valor: 0.0000\n",
            "Dia: 19, Valor: 0.0000\n",
            "Dia: 20, Valor: 12974.2000\n",
            "Dia: 21, Valor: 28490.9861\n",
            "Dia: 22, Valor: 8748.0937\n",
            "Dia: 23, Valor: 8889.0023\n",
            "Dia: 24, Valor: 17767.5583\n",
            "Dia: 25, Valor: 0.0000\n",
            "Dia: 26, Valor: 0.0000\n",
            "Dia: 27, Valor: 3071.3283\n",
            "Dia: 28, Valor: 48275.2994\n",
            "Dia: 29, Valor: 10299.6761\n",
            "Dia: 30, Valor: 39874.1073\n"
          ]
        }
      ]
    },
    {
      "cell_type": "code",
      "source": [
        "indice = 13\n",
        "soma = 0\n",
        "K = 0\n",
        "\n",
        "while K < indice:\n",
        "    K = K + 1\n",
        "    soma = soma + K\n",
        "\n",
        "print(soma)\n"
      ],
      "metadata": {
        "colab": {
          "base_uri": "https://localhost:8080/"
        },
        "id": "lgaHFDlpfYgR",
        "outputId": "298be694-dc13-4da8-c40a-59f0a562cf85"
      },
      "execution_count": 135,
      "outputs": [
        {
          "output_type": "stream",
          "name": "stdout",
          "text": [
            "91\n"
          ]
        }
      ]
    },
    {
      "cell_type": "code",
      "source": [
        "# Dado a sequência de Fibonacci, onde se inicia por 0 e 1 e o próximo valor \n",
        "# sempre será a soma dos 2 valores anteriores (exemplo: 0, 1, 1, 2, 3, 5, 8, 13, 21, 34...)\n",
        "# escreva um programa na linguagem que desejar onde, informado um número, ele calcule a sequência de Fibonacci\n",
        "# e retorne uma mensagem avisando se o número informado pertence ou não a sequência.\n",
        "num = int(input(\"Informe um número: \"))\n",
        "\n",
        "fib1, fib2 = 0, 1\n",
        "fibonacci = [fib1, fib2]\n",
        "\n",
        "while fib2 < num:\n",
        "    fib1, fib2 = fib2, fib1 + fib2\n",
        "    fibonacci.append(fib2)\n",
        "\n",
        "if num in fibonacci:\n",
        "    print(f\"O número {num} pertence à sequência de Fibonacci.\")\n",
        "else:\n",
        "    print(f\"O número {num} não pertence à sequência de Fibonacci.\")\n"
      ],
      "metadata": {
        "colab": {
          "base_uri": "https://localhost:8080/"
        },
        "id": "-tI8rskugRXR",
        "outputId": "9a0aee19-4aeb-46c7-f3fb-833d55af1454"
      },
      "execution_count": 130,
      "outputs": [
        {
          "output_type": "stream",
          "name": "stdout",
          "text": [
            "Informe um número: 21\n",
            "O número 21 pertence à sequência de Fibonacci.\n"
          ]
        }
      ]
    },
    {
      "cell_type": "code",
      "source": [
        "num = int(input(\"Digite um número: \"))\n",
        "\n",
        "fibonacci = [0, 1]\n",
        "\n",
        "while fibonacci[-1] < num:\n",
        "    fibonacci.append(fibonacci[-1] + fibonacci[-2])\n",
        "\n",
        "if num in fibonacci:\n",
        "    print(f\"O número {num} pertence à sequência de Fibonacci:\")\n",
        "    for i in range(fibonacci.index(num) + 1):\n",
        "        print(fibonacci[i])\n",
        "else:\n",
        "    print(f\"O número {num} não pertence à sequência de Fibonacci.\")\n"
      ],
      "metadata": {
        "colab": {
          "base_uri": "https://localhost:8080/"
        },
        "id": "lTeWELR7hIDH",
        "outputId": "a2087d19-d72c-474c-b877-965ada05cdb7"
      },
      "execution_count": 131,
      "outputs": [
        {
          "output_type": "stream",
          "name": "stdout",
          "text": [
            "Digite um número: 53\n",
            "O número 53 não pertence à sequência de Fibonacci.\n"
          ]
        }
      ]
    },
    {
      "cell_type": "code",
      "source": [
        "\n",
        "n = int(input(\"Digite um número inteiro: \"))\n",
        "\n",
        "fibonacci = [0, 1]\n",
        "\n",
        "while fibonacci[-1] < n:\n",
        "    next_fibonacci = fibonacci[-1] + fibonacci[-2]\n",
        "    fibonacci.append(next_fibonacci)\n",
        "\n",
        "if n in fibonacci:\n",
        "    print(f\" {n} pertence a sequência Fibonacci\")\n",
        "    soma_fibonacci = sum(fibonacci)\n",
        "    print(f\"Ao somar os números da Sequência Fibonacci até {fibonacci[-1]} obtêm-se o valor de: {soma_fibonacci}\")\n",
        "    \n",
        "else:\n",
        "    print(f\" {n} não pertence a sequência Fibonacci\")\n",
        "    \n"
      ],
      "metadata": {
        "colab": {
          "base_uri": "https://localhost:8080/"
        },
        "id": "aJBf2O1WhyQs",
        "outputId": "46eba2eb-3cfe-4448-d219-c35b3664206c"
      },
      "execution_count": 133,
      "outputs": [
        {
          "output_type": "stream",
          "name": "stdout",
          "text": [
            "Digite um número inteiro: 55\n",
            " 55 pertence a sequência Fibonacci\n",
            "Ao somar os números da Sequência Fibonacci até 55 obtêm-se o valor de: 143\n"
          ]
        }
      ]
    },
    {
      "cell_type": "code",
      "source": [
        " #Escreva um programa que inverta os caracteres de um string.\n",
        "string_digitada = input(\"Digite uma string: \") \n",
        "\n",
        "def inverte_anagrama(palavra):\n",
        "    letras = list(palavra)\n",
        "    random.shuffle(letras)\n",
        "    return ''.join(letras)\n",
        "string_invertida = string_digitada[::-1]\n",
        "anagrama_invertido = inverte_anagrama(string_digitada)\n",
        "\n",
        "print(\"A string digitada foi: \", string_digitada)\n",
        "print(\"A string invertida é: \", string_invertida)\n",
        "print(\"O Anagrama da String: \",anagrama_invertido)"
      ],
      "metadata": {
        "colab": {
          "base_uri": "https://localhost:8080/"
        },
        "id": "vs8_Siz-nsY1",
        "outputId": "43c3aecf-ff0d-46c1-a804-d8238533aebb"
      },
      "execution_count": 129,
      "outputs": [
        {
          "output_type": "stream",
          "name": "stdout",
          "text": [
            "Digite uma string: Boleiro\n",
            "A string digitada foi:  Boleiro\n",
            "A string invertida é:  orieloB\n",
            "O Anagrama da String:  lreiooB\n"
          ]
        }
      ]
    }
  ]
}